{
 "cells": [
  {
   "cell_type": "markdown",
   "id": "1c78e192",
   "metadata": {},
   "source": [
    "# Q1. What are the three measures of central tendency?"
   ]
  },
  {
   "cell_type": "markdown",
   "id": "abecff58",
   "metadata": {},
   "source": [
    "__Ans. :__<br>\n",
    "\n",
    "The three measures of central tendency are:\n",
    "\n",
    "__mean, median and mode.__"
   ]
  },
  {
   "cell_type": "markdown",
   "id": "47e4ae4e",
   "metadata": {},
   "source": [
    "# Q2. What is the difference between the mean, median, and mode? How are they used to measure the central tendency of a dataset?"
   ]
  },
  {
   "cell_type": "markdown",
   "id": "02cb173b",
   "metadata": {},
   "source": [
    "__Ans. :__<br>\n",
    "\n",
    "The main differences between them are:\n",
    "\n",
    "1. __Mean:__ The __mean__ is the arithmetic average of a set of numbers. It is calculated by summing up all the values in the dataset and dividing by the number of values.\n",
    "\n",
    "2. __Median:__ The __median__ is the middle value of a dataset when the values are arranged in order of magnitude. It is the value that separates the upper half of the dataset from the lower half.\n",
    "\n",
    "3. __Mode:__ The __mode__ is the value that occurs most frequently in a dataset. It is the value that appears with the highest frequency.\n",
    "\n",
    "All three measures are used to describe the central tendency of a dataset in different ways. The mean is often used when the data is normally distributed and not skewed, and it provides a simple way to calculate the average of a set of numbers. The median is often used when the data is skewed or when extreme values are present, and it provides a more robust estimate of the central tendency that is less affected by extreme values. The mode is often used in categorical data where there are discrete values or categories, and it provides a way to identify the most common value or category. The choice of measure depends on the distribution and characteristics of the data."
   ]
  },
  {
   "cell_type": "markdown",
   "id": "126a0c84",
   "metadata": {},
   "source": [
    "# Q3. Measure the three measures of central tendency for the given height data:\n",
    "[178,177,176,177,178.2,178,175,179,180,175,178.9,176.2,177,172.5,178,176.5]"
   ]
  },
  {
   "cell_type": "markdown",
   "id": "b20e39e2",
   "metadata": {},
   "source": [
    "__Ans. :__<br>\n",
    "\n",
    "__mean :__ 177.01875<br>\n",
    "__median :__ 177.0<br>\n",
    "__mode :__ 177"
   ]
  },
  {
   "cell_type": "markdown",
   "id": "601e18d2",
   "metadata": {},
   "source": [
    "# Q4. Find the standard deviation for the given data:\n",
    "[178,177,176,177,178.2,178,175,179,180,175,178.9,176.2,177,172.5,178,176.5]\n",
    "\n",
    "__Ans. :__<br>\n",
    "\n",
    "1.7885814036548633"
   ]
  },
  {
   "cell_type": "markdown",
   "id": "0b38eeec",
   "metadata": {},
   "source": [
    "# Q5. How are measures of dispersion such as range, variance, and standard deviation used to describe the spread of a dataset? Provide an example."
   ]
  },
  {
   "cell_type": "markdown",
   "id": "4a025f4f",
   "metadata": {},
   "source": [
    "__Ans. :__<br>\n",
    "\n",
    "Measures of dispersion such as range, variance, and standard deviation are used to describe the spread or variability of a dataset.\n",
    "\n",
    "### Range: \n",
    "The __range__ is the difference between the maximum and minimum values in a dataset. It provides a simple way of measuring the spread of the data. A large range indicates a wide spread, while a small range indicates a narrow spread.<br>\n",
    "For __example,__ if we have a dataset of exam scores ranging from 50 to 100, the range is 50, indicating a wide spread.\n",
    "\n",
    "### Variance: \n",
    "The __variance__ is a measure of how far the data points are from the mean. It is calculated by finding the average of the squared differences between each data point and the mean. A higher variance indicates that the data points are more spread out from the mean, while a lower variance indicates that the data points are closer to the mean.<br>\n",
    "For __example,__ if we have a dataset of student heights and their mean height is 160 cm, a high variance indicates that there are many students who are taller or shorter than the mean, while a low variance indicates that most students are close to the mean.\n",
    "\n",
    "### Standard deviation: \n",
    "The __standard deviation__ is the square root of the variance. It is also a measure of how far the data points are from the mean, but it is easier to interpret because it is in the same units as the original data. A higher standard deviation indicates that the data points are more spread out from the mean, while a lower standard deviation indicates that the data points are closer to the mean.<br>\n",
    "For __example,__ if we have a dataset of salaries and their mean salary is Rs.50,000 with a standard deviation of Rs.10,000 this indicates that most salaries are close to Rs.50,000, but some salaries are much higher or lower.\n",
    "\n",
    "In summary, measures of dispersion are important because they provide information about how spread out the data is, and they help to give a more complete understanding of the dataset."
   ]
  },
  {
   "cell_type": "markdown",
   "id": "c5718095",
   "metadata": {},
   "source": [
    "# Q6. What is a Venn diagram?"
   ]
  },
  {
   "cell_type": "markdown",
   "id": "1432dcd5",
   "metadata": {},
   "source": [
    "__Ans. :__<br>\n",
    "\n",
    "A __Venn diagram__ is a visual representation of the relationships between sets. It consists of overlapping circles or ellipses, each representing a set, with the overlapping regions representing the intersection of the sets. The diagram is named after John Venn, a British logician, who first introduced it in 1880."
   ]
  },
  {
   "cell_type": "markdown",
   "id": "a529f5fa",
   "metadata": {},
   "source": [
    "# Q7. For the two given sets A = (2,3,4,5,6,7) & B = (0,2,6,8,10). \n",
    "__Find:\n",
    "(i) A ⋂ B\n",
    "(ii) A ⋃ B__"
   ]
  },
  {
   "cell_type": "markdown",
   "id": "0f310350",
   "metadata": {},
   "source": [
    "__Ans. :__<br>\n",
    "\n",
    "__(i)A ⋂ B : {2,6}<br>\n",
    "(ii) A ⋃ B : {0,2,3,4,5,6,7,8,10}__"
   ]
  },
  {
   "cell_type": "markdown",
   "id": "a61b8a14",
   "metadata": {},
   "source": [
    "# Q8. What do you understand about skewness in data?"
   ]
  },
  {
   "cell_type": "markdown",
   "id": "83b2c037",
   "metadata": {},
   "source": [
    "__Ans. :__<br>\n",
    "\n",
    "__Skewness__ is a statistical measure that describes the asymmetry of a distribution around its mean. In other words, it measures the degree to which a distribution is lopsided.\n",
    "\n",
    "When a distribution is perfectly symmetrical, the skewness is zero. However, if the distribution is skewed to the right (also known as positively skewed), then the tail of the distribution will be longer on the right side and the mean will be greater than the median. On the other hand, if the distribution is skewed to the left (also known as negatively skewed), then the tail of the distribution will be longer on the left side and the mean will be less than the median."
   ]
  },
  {
   "cell_type": "markdown",
   "id": "42c9527c",
   "metadata": {},
   "source": [
    "# Q9. If a data is right skewed then what will be the position of median with respect to mean?"
   ]
  },
  {
   "cell_type": "markdown",
   "id": "a6b98650",
   "metadata": {},
   "source": [
    "__Ans. :__<br>\n",
    "\n",
    "If a data is right skewed, then the median will be less than the mean. This is because the right-skewed distribution has a long tail on the right side, which pulls the mean in that direction. As a result, the mean will be greater than the median."
   ]
  },
  {
   "cell_type": "markdown",
   "id": "12b61cb9",
   "metadata": {},
   "source": [
    "# Q10. Explain the difference between covariance and correlation. How are these measures used in statistical analysis?"
   ]
  },
  {
   "cell_type": "markdown",
   "id": "969766d8",
   "metadata": {},
   "source": [
    "__Ans. :__<br>\n",
    "\n",
    "__Covariance and correlation__ are both measures used in statistical analysis to describe the relationship between two variables. However, they differ in their units of measurement and the degree to which they measure the strength of the relationship between the variables.\n",
    "\n",
    "__Covariance__ is a measure of how two variables vary together. It is calculated by taking the sum of the products of the deviations of each variable from their respective means. A positive covariance indicates that the two variables are positively related, while a negative covariance indicates that they are inversely related. The problem with using covariance as a measure of the relationship between two variables is that it is sensitive to the scale of the variables, and therefore cannot be used to compare the strength of the relationship between variables with different scales.\n",
    "\n",
    "__Correlation,__ on the other hand, is a standardized measure of the relationship between two variables. It measures the strength and direction of the linear relationship between two variables on a scale ranging from -1 to +1. A correlation coefficient of +1 indicates a perfect positive relationship, a correlation coefficient of 0 indicates no relationship, and a correlation coefficient of -1 indicates a perfect negative relationship. Correlation coefficients are unitless and therefore can be used to compare the strength of the relationship between variables with different scales.\n",
    "\n",
    "Both __covariance and correlation__ can be used to describe the relationship between two variables, but correlation is a more useful measure because it is standardized and can be used to compare the strength of the relationship between variables with different scales. Correlation is widely used in data analysis, and is particularly useful for identifying and quantifying the strength of relationships between variables in fields such as finance, economics, psychology, and epidemiology."
   ]
  },
  {
   "cell_type": "markdown",
   "id": "d9879f85",
   "metadata": {},
   "source": [
    "# Q11. What is the formula for calculating the sample mean? Provide an example calculation for a dataset."
   ]
  },
  {
   "cell_type": "markdown",
   "id": "fb89a4c9",
   "metadata": {},
   "source": [
    "__Ans. :__<br>\n",
    "\n",
    "The formula for calculating the sample mean is:\n",
    "\n",
    "sample mean = sum of all data points / total number of data points\n",
    "\n",
    "Suppose we have the following dataset of exam scores: 80, 85, 90, 92, 75\n",
    "\n",
    "To calculate the sample mean, we add up all the data points and divide by the total number of data points:\n",
    "\n",
    "sample mean = (80 + 85 + 90 + 92 + 75) / 5\n",
    "\n",
    "sample mean = 422 / 5\n",
    "\n",
    "sample mean = 84.4\n",
    "\n",
    "Therefore, the sample mean for this dataset is 84.4."
   ]
  },
  {
   "cell_type": "markdown",
   "id": "a6bef987",
   "metadata": {},
   "source": [
    "# Q12. For a normal distribution data what is the relationship between its measure of central tendency?"
   ]
  },
  {
   "cell_type": "markdown",
   "id": "3da78593",
   "metadata": {},
   "source": [
    "__Ans. :__<br>\n",
    "\n",
    "For a __normal distribution data,__ the mean, median, and mode are all equal. This means that the distribution is symmetrical, with the data points evenly distributed around the central value. The mean is the arithmetic average of all the data points, the median is the middle value when the data points are arranged in order, and the mode is the most frequently occurring value. In a normal distribution, all three measures of central tendency will be the same, indicating that the data is evenly distributed around the central value."
   ]
  },
  {
   "cell_type": "markdown",
   "id": "8e22f494",
   "metadata": {},
   "source": [
    "# Q13. How is covariance different from correlation?"
   ]
  },
  {
   "cell_type": "markdown",
   "id": "504fb31a",
   "metadata": {},
   "source": [
    "__Ans. :__<br>\n",
    "\n",
    "__Covariance and correlation__ are both measures of the relationship between two variables, but they differ in how they are calculated and interpreted.\n",
    "\n",
    "__Covariance measures__ the direction and strength of the linear relationship between two variables. It is calculated by taking the average of the product of the deviations of each variable from its mean. Covariance can be positive, negative, or zero. A positive covariance indicates a direct relationship between the two variables, while a negative covariance indicates an inverse relationship. However, covariance does not tell us the strength of the relationship between the variables, as it is dependent on the scale of the variables.\n",
    "\n",
    "__Correlation,__ on the other hand, measures the strength and direction of the linear relationship between two variables, but it is standardized to a range between -1 and 1. Correlation is calculated by dividing the covariance of the two variables by the product of their standard deviations. A correlation of +1 indicates a perfect positive linear relationship, a correlation of -1 indicates a perfect negative linear relationship, and a correlation of 0 indicates no linear relationship. Unlike covariance, correlation is not dependent on the scale of the variables, making it easier to interpret.\n",
    "\n",
    "In summary, __covariance__ measures the direction and strength of the linear relationship between two variables, but it does not provide a standardized measure of the strength of the relationship. __Correlation,__ on the other hand, provides a standardized measure of the strength and direction of the linear relationship between two variables."
   ]
  },
  {
   "cell_type": "markdown",
   "id": "2b37e25a",
   "metadata": {},
   "source": [
    "# Q14. How do outliers affect measures of central tendency and dispersion? Provide an example."
   ]
  },
  {
   "cell_type": "markdown",
   "id": "c1b6237c",
   "metadata": {},
   "source": [
    "__Ans. :__<br>\n",
    "\n",
    "Outliers can have a significant impact on measures of central tendency and dispersion, as they can distort the overall picture of the data. Measures of central tendency such as the mean and mode can be skewed by outliers, while measures of dispersion such as range and standard deviation can be inflated or deflated by outliers.\n",
    "\n",
    "For example, consider the following dataset of exam scores:\n",
    "\n",
    "{60, 65, 70, 75, 80, 85, 90, 95, 100, 105}\n",
    "\n",
    "If we add an outlier to this dataset such as 150, the mean will increase significantly from 80 to 95, even though the majority of scores are in the 60-105 range. Similarly, the standard deviation will increase from approximately 18 to approximately 33, due to the increased spread caused by the outlier. In contrast, if we add an outlier such as 5, the mean will decrease significantly from 80 to 73.5, and the standard deviation will decrease as well due to the decreased spread.\n",
    "\n",
    "Therefore, it is important to identify and handle outliers appropriately in statistical analysis to ensure accurate measures of central tendency and dispersion. One approach is to use robust statistical methods that are less sensitive to outliers, such as the median and interquartile range instead of the mean and standard deviation. Another approach is to remove or adjust the outliers based on domain knowledge or data quality considerations."
   ]
  },
  {
   "cell_type": "code",
   "execution_count": null,
   "id": "d069b978",
   "metadata": {},
   "outputs": [],
   "source": []
  }
 ],
 "metadata": {
  "kernelspec": {
   "display_name": "Python 3 (ipykernel)",
   "language": "python",
   "name": "python3"
  },
  "language_info": {
   "codemirror_mode": {
    "name": "ipython",
    "version": 3
   },
   "file_extension": ".py",
   "mimetype": "text/x-python",
   "name": "python",
   "nbconvert_exporter": "python",
   "pygments_lexer": "ipython3",
   "version": "3.9.7"
  }
 },
 "nbformat": 4,
 "nbformat_minor": 5
}
